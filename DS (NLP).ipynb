{
 "cells": [
  {
   "cell_type": "code",
   "execution_count": 1,
   "id": "829ddeb5",
   "metadata": {},
   "outputs": [],
   "source": [
    "import spacy"
   ]
  },
  {
   "cell_type": "code",
   "execution_count": 2,
   "id": "be835989",
   "metadata": {},
   "outputs": [],
   "source": [
    "english = spacy.load('en_core_web_sm')"
   ]
  },
  {
   "cell_type": "code",
   "execution_count": 3,
   "id": "f339d54d",
   "metadata": {},
   "outputs": [],
   "source": [
    "doc1 = english('welcome to the world of technology')"
   ]
  },
  {
   "cell_type": "code",
   "execution_count": 4,
   "id": "35c8bed0",
   "metadata": {},
   "outputs": [
    {
     "name": "stdout",
     "output_type": "stream",
     "text": [
      "welcome 13464593006667652248 welcome\n",
      "to 3791531372978436496 to\n",
      "the 7425985699627899538 the\n",
      "world 1703489418272052182 world\n",
      "of 886050111519832510 of\n",
      "technology 1740049878576065363 technology\n"
     ]
    }
   ],
   "source": [
    "for token in doc1 :\n",
    "    print(token.text , token.lemma , token.lemma_ )"
   ]
  },
  {
   "cell_type": "code",
   "execution_count": 5,
   "id": "a8435626",
   "metadata": {},
   "outputs": [],
   "source": [
    "doc2 = english(\"we're the people of india , living since we born\")"
   ]
  },
  {
   "cell_type": "code",
   "execution_count": 6,
   "id": "3da5d963",
   "metadata": {},
   "outputs": [
    {
     "name": "stdout",
     "output_type": "stream",
     "text": [
      "we 16064069575701507746 we\n",
      "'re 10382539506755952630 be\n",
      "the 7425985699627899538 the\n",
      "people 7593739049417968140 people\n",
      "of 886050111519832510 of\n",
      "india 9504827836828505330 india\n",
      ", 2593208677638477497 ,\n",
      "living 13874798850131827181 live\n",
      "since 10066841407251338481 since\n",
      "we 16064069575701507746 we\n",
      "born 3737373500888618661 bear\n"
     ]
    }
   ],
   "source": [
    "for token in doc2 :\n",
    "    print(token.text , token.lemma , token.lemma_ )"
   ]
  },
  {
   "cell_type": "code",
   "execution_count": 7,
   "id": "e4af5010",
   "metadata": {},
   "outputs": [
    {
     "data": {
      "text/plain": [
       "87"
      ]
     },
     "execution_count": 7,
     "metadata": {},
     "output_type": "execute_result"
    }
   ],
   "source": [
    "doc2[1].pos"
   ]
  },
  {
   "cell_type": "code",
   "execution_count": 8,
   "id": "5ec18cd5",
   "metadata": {},
   "outputs": [
    {
     "data": {
      "text/plain": [
       "'AUX'"
      ]
     },
     "execution_count": 8,
     "metadata": {},
     "output_type": "execute_result"
    }
   ],
   "source": [
    "doc2[1].pos_"
   ]
  },
  {
   "cell_type": "code",
   "execution_count": 9,
   "id": "1d6ee0e6",
   "metadata": {},
   "outputs": [
    {
     "data": {
      "text/plain": [
       "[\"we're\", 'the', 'people', 'of', 'india', ',', 'living', 'since', 'we', 'born']"
      ]
     },
     "execution_count": 9,
     "metadata": {},
     "output_type": "execute_result"
    }
   ],
   "source": [
    "doc = (\"we're the people of india , living since we born\")\n",
    "doc.split()"
   ]
  },
  {
   "cell_type": "code",
   "execution_count": 10,
   "id": "1ae97a91",
   "metadata": {},
   "outputs": [
    {
     "data": {
      "text/plain": [
       "[('tok2vec', <spacy.pipeline.tok2vec.Tok2Vec at 0x11d4dc40280>),\n",
       " ('tagger', <spacy.pipeline.tagger.Tagger at 0x11d4daa9dc0>),\n",
       " ('parser', <spacy.pipeline.dep_parser.DependencyParser at 0x11d4d9abf90>),\n",
       " ('attribute_ruler',\n",
       "  <spacy.pipeline.attributeruler.AttributeRuler at 0x11d4dc5c240>),\n",
       " ('lemmatizer', <spacy.lang.en.lemmatizer.EnglishLemmatizer at 0x11d4dc96840>),\n",
       " ('ner', <spacy.pipeline.ner.EntityRecognizer at 0x11d4dcd1040>)]"
      ]
     },
     "execution_count": 10,
     "metadata": {},
     "output_type": "execute_result"
    }
   ],
   "source": [
    "english.pipeline"
   ]
  },
  {
   "cell_type": "code",
   "execution_count": 11,
   "id": "57826bba",
   "metadata": {},
   "outputs": [],
   "source": [
    "doc3 = english(\"Microsoft isn't looking into startup \")"
   ]
  },
  {
   "cell_type": "code",
   "execution_count": 12,
   "id": "be8e0379",
   "metadata": {},
   "outputs": [
    {
     "name": "stdout",
     "output_type": "stream",
     "text": [
      "Microsoft 5291444330391917710 Microsoft nsubj\n",
      "is 10382539506755952630 be aux\n",
      "n't 447765159362469301 not neg\n",
      "looking 16096726548953279178 look ROOT\n",
      "into 3278561384161438710 into prep\n",
      "startup 7622488711881293715 startup pobj\n"
     ]
    }
   ],
   "source": [
    "for token in doc3 :\n",
    "    print(token.text , token.lemma , token.lemma_ , token.dep_)"
   ]
  },
  {
   "cell_type": "code",
   "execution_count": 13,
   "id": "d67071dc",
   "metadata": {},
   "outputs": [
    {
     "name": "stdout",
     "output_type": "stream",
     "text": [
      "Microsoft\n",
      "startup\n"
     ]
    }
   ],
   "source": [
    "for token in doc3.noun_chunks :\n",
    "    print(token)"
   ]
  },
  {
   "cell_type": "code",
   "execution_count": 14,
   "id": "998c2abc",
   "metadata": {},
   "outputs": [
    {
     "data": {
      "text/plain": [
       "'object of preposition'"
      ]
     },
     "execution_count": 14,
     "metadata": {},
     "output_type": "execute_result"
    }
   ],
   "source": [
    "spacy.explain('pobj')"
   ]
  },
  {
   "cell_type": "code",
   "execution_count": 15,
   "id": "4bc822d2",
   "metadata": {},
   "outputs": [],
   "source": [
    "doc4 = english(\"we're here to help! , can u send email to kanna@newlook.com  or visit http://www.kanna.com\")"
   ]
  },
  {
   "cell_type": "code",
   "execution_count": 16,
   "id": "1df3f572",
   "metadata": {},
   "outputs": [
    {
     "name": "stdout",
     "output_type": "stream",
     "text": [
      "we nsubj\n",
      "'re ROOT\n",
      "here advmod\n",
      "to aux\n",
      "help advcl\n",
      "! punct\n",
      ", punct\n",
      "can aux\n",
      "u nsubj\n",
      "send ROOT\n",
      "email dobj\n",
      "to dative\n",
      "kanna@newlook.com compound\n",
      "  dep\n",
      "or cc\n",
      "visit conj\n",
      "http://www.kanna.com punct\n"
     ]
    }
   ],
   "source": [
    "for token in doc4 :\n",
    "    print(token.text , token.dep_)"
   ]
  },
  {
   "cell_type": "code",
   "execution_count": 17,
   "id": "59e51158",
   "metadata": {},
   "outputs": [],
   "source": [
    "doc6 = english(\"let's visit st. clara in the U.S. valley next year\")"
   ]
  },
  {
   "cell_type": "code",
   "execution_count": 18,
   "id": "1f8d5618",
   "metadata": {},
   "outputs": [
    {
     "name": "stdout",
     "output_type": "stream",
     "text": [
      "let ROOT\n",
      "'s nsubj\n",
      "visit ccomp\n",
      "st compound\n",
      ". compound\n",
      "clara dobj\n",
      "in prep\n",
      "the det\n",
      "U.S. compound\n",
      "valley pobj\n",
      "next amod\n",
      "year npadvmod\n"
     ]
    }
   ],
   "source": [
    "for token in doc6 :\n",
    "    print(token.text , token.dep_)"
   ]
  },
  {
   "cell_type": "code",
   "execution_count": 19,
   "id": "3887f762",
   "metadata": {},
   "outputs": [],
   "source": [
    "doc6 = english(\"let's visit St. clara in the U.S. valley next year\")"
   ]
  },
  {
   "cell_type": "code",
   "execution_count": 20,
   "id": "85a5936e",
   "metadata": {},
   "outputs": [
    {
     "name": "stdout",
     "output_type": "stream",
     "text": [
      "let ROOT\n",
      "'s nsubj\n",
      "visit ccomp\n",
      "St. compound\n",
      "clara dobj\n",
      "in prep\n",
      "the det\n",
      "U.S. compound\n",
      "valley pobj\n",
      "next amod\n",
      "year npadvmod\n"
     ]
    }
   ],
   "source": [
    "for token in doc6 :\n",
    "    print(token.text , token.dep_)"
   ]
  },
  {
   "cell_type": "code",
   "execution_count": 21,
   "id": "35866966",
   "metadata": {},
   "outputs": [
    {
     "name": "stdout",
     "output_type": "stream",
     "text": [
      "St. clara GPE\n",
      "U.S. GPE\n",
      "next year DATE\n"
     ]
    }
   ],
   "source": [
    "for token in doc6.ents :\n",
    "    print(token.text ,token.label_)"
   ]
  },
  {
   "cell_type": "code",
   "execution_count": 22,
   "id": "5733c4b1",
   "metadata": {},
   "outputs": [],
   "source": [
    "doc7 = english(\"Google to build a Hong kong factory for $7 million\")"
   ]
  },
  {
   "cell_type": "code",
   "execution_count": 23,
   "id": "4f5efb33",
   "metadata": {},
   "outputs": [
    {
     "name": "stdout",
     "output_type": "stream",
     "text": [
      "Google nsubj\n",
      "to aux\n",
      "build ROOT\n",
      "a det\n",
      "Hong compound\n",
      "kong compound\n",
      "factory dobj\n",
      "for prep\n",
      "$ quantmod\n",
      "7 compound\n",
      "million pobj\n"
     ]
    }
   ],
   "source": [
    "for token in doc7 :\n",
    "    print(token.text , token.dep_)"
   ]
  },
  {
   "cell_type": "code",
   "execution_count": 24,
   "id": "9542cfc9",
   "metadata": {},
   "outputs": [
    {
     "name": "stdout",
     "output_type": "stream",
     "text": [
      "Hong kong GPE\n",
      "$7 million MONEY\n"
     ]
    }
   ],
   "source": [
    "for token in doc7.ents :\n",
    "    print(token.text ,token.label_)"
   ]
  },
  {
   "cell_type": "code",
   "execution_count": 25,
   "id": "cb2239d3",
   "metadata": {},
   "outputs": [],
   "source": [
    "doc8 = english(\"Autonomous car shift insurance liability toward manufacture\")"
   ]
  },
  {
   "cell_type": "code",
   "execution_count": 26,
   "id": "033164f8",
   "metadata": {},
   "outputs": [
    {
     "name": "stdout",
     "output_type": "stream",
     "text": [
      "Autonomous amod\n",
      "car compound\n",
      "shift compound\n",
      "insurance compound\n",
      "liability ROOT\n",
      "toward prep\n",
      "manufacture pobj\n"
     ]
    }
   ],
   "source": [
    "for token in doc8 :\n",
    "    print(token.text ,token.dep_)"
   ]
  },
  {
   "cell_type": "code",
   "execution_count": 27,
   "id": "9ff4b6e0",
   "metadata": {},
   "outputs": [],
   "source": [
    "for token in doc8.ents :\n",
    "    print(token.text ,token.label_)"
   ]
  },
  {
   "cell_type": "code",
   "execution_count": 28,
   "id": "1807a79f",
   "metadata": {},
   "outputs": [
    {
     "name": "stdout",
     "output_type": "stream",
     "text": [
      "'s NP\n",
      "St. clara NP\n",
      "the U.S. valley NP\n"
     ]
    }
   ],
   "source": [
    "for token in doc6.noun_chunks :\n",
    "    print(token.text ,token.label_)"
   ]
  },
  {
   "cell_type": "code",
   "execution_count": 29,
   "id": "81a75014",
   "metadata": {},
   "outputs": [
    {
     "name": "stdout",
     "output_type": "stream",
     "text": [
      "Autonomous car shift insurance liability NP\n",
      "manufacture NP\n"
     ]
    }
   ],
   "source": [
    "for token in doc8.noun_chunks :\n",
    "    print(token.text ,token.label_)"
   ]
  },
  {
   "cell_type": "code",
   "execution_count": 30,
   "id": "48513a33",
   "metadata": {},
   "outputs": [],
   "source": [
    "doc9 = english (\"iam a runner running in a race because i love to run since i ran yesterday \")"
   ]
  },
  {
   "cell_type": "code",
   "execution_count": 31,
   "id": "c3f8ee62",
   "metadata": {},
   "outputs": [
    {
     "name": "stdout",
     "output_type": "stream",
     "text": [
      "iam ROOT\n",
      "a det\n",
      "runner appos\n",
      "running acl\n",
      "in prep\n",
      "a det\n",
      "race pobj\n",
      "because mark\n",
      "i nsubj\n",
      "love advcl\n",
      "to aux\n",
      "run xcomp\n",
      "since mark\n",
      "i nsubj\n",
      "ran advcl\n",
      "yesterday npadvmod\n"
     ]
    }
   ],
   "source": [
    "for token in doc9 :\n",
    "    print(token.text ,token.dep_)"
   ]
  },
  {
   "cell_type": "code",
   "execution_count": 32,
   "id": "ffe2de68",
   "metadata": {},
   "outputs": [
    {
     "name": "stdout",
     "output_type": "stream",
     "text": [
      "iam NP\n",
      "a runner NP\n",
      "a race NP\n",
      "i NP\n",
      "i NP\n"
     ]
    }
   ],
   "source": [
    "for token in doc9.noun_chunks :\n",
    "    print(token.text ,token.label_)"
   ]
  },
  {
   "cell_type": "code",
   "execution_count": 33,
   "id": "ffa6fb21",
   "metadata": {},
   "outputs": [],
   "source": [
    "from nltk.stem.porter import PorterStemmer "
   ]
  },
  {
   "cell_type": "code",
   "execution_count": 34,
   "id": "3664e012",
   "metadata": {},
   "outputs": [],
   "source": [
    "#PorterStemmer.stem(\"running\")"
   ]
  },
  {
   "cell_type": "code",
   "execution_count": 35,
   "id": "fdceec54",
   "metadata": {},
   "outputs": [],
   "source": [
    "from nltk.stem.snowball import SnowballStemmer"
   ]
  },
  {
   "cell_type": "code",
   "execution_count": 36,
   "id": "b01714f0",
   "metadata": {},
   "outputs": [],
   "source": [
    "#SnowballStemmer.stem(\"running\")"
   ]
  },
  {
   "cell_type": "code",
   "execution_count": 37,
   "id": "22c88229",
   "metadata": {},
   "outputs": [],
   "source": [
    "doc10 = english(\"I saw eight mice yesterday\")"
   ]
  },
  {
   "cell_type": "code",
   "execution_count": 38,
   "id": "460240fa",
   "metadata": {},
   "outputs": [
    {
     "name": "stdout",
     "output_type": "stream",
     "text": [
      "I I\n",
      "saw see\n",
      "eight eight\n",
      "mice mouse\n",
      "yesterday yesterday\n"
     ]
    }
   ],
   "source": [
    "for token in doc10:\n",
    "    print(token , token.lemma_)"
   ]
  },
  {
   "cell_type": "code",
   "execution_count": 39,
   "id": "3b53415c",
   "metadata": {},
   "outputs": [
    {
     "data": {
      "text/plain": [
       "{\"'d\",\n",
       " \"'ll\",\n",
       " \"'m\",\n",
       " \"'re\",\n",
       " \"'s\",\n",
       " \"'ve\",\n",
       " 'a',\n",
       " 'about',\n",
       " 'above',\n",
       " 'across',\n",
       " 'after',\n",
       " 'afterwards',\n",
       " 'again',\n",
       " 'against',\n",
       " 'all',\n",
       " 'almost',\n",
       " 'alone',\n",
       " 'along',\n",
       " 'already',\n",
       " 'also',\n",
       " 'although',\n",
       " 'always',\n",
       " 'am',\n",
       " 'among',\n",
       " 'amongst',\n",
       " 'amount',\n",
       " 'an',\n",
       " 'and',\n",
       " 'another',\n",
       " 'any',\n",
       " 'anyhow',\n",
       " 'anyone',\n",
       " 'anything',\n",
       " 'anyway',\n",
       " 'anywhere',\n",
       " 'are',\n",
       " 'around',\n",
       " 'as',\n",
       " 'at',\n",
       " 'back',\n",
       " 'be',\n",
       " 'became',\n",
       " 'because',\n",
       " 'become',\n",
       " 'becomes',\n",
       " 'becoming',\n",
       " 'been',\n",
       " 'before',\n",
       " 'beforehand',\n",
       " 'behind',\n",
       " 'being',\n",
       " 'below',\n",
       " 'beside',\n",
       " 'besides',\n",
       " 'between',\n",
       " 'beyond',\n",
       " 'both',\n",
       " 'bottom',\n",
       " 'but',\n",
       " 'by',\n",
       " 'ca',\n",
       " 'call',\n",
       " 'can',\n",
       " 'cannot',\n",
       " 'could',\n",
       " 'did',\n",
       " 'do',\n",
       " 'does',\n",
       " 'doing',\n",
       " 'done',\n",
       " 'down',\n",
       " 'due',\n",
       " 'during',\n",
       " 'each',\n",
       " 'eight',\n",
       " 'either',\n",
       " 'eleven',\n",
       " 'else',\n",
       " 'elsewhere',\n",
       " 'empty',\n",
       " 'enough',\n",
       " 'even',\n",
       " 'ever',\n",
       " 'every',\n",
       " 'everyone',\n",
       " 'everything',\n",
       " 'everywhere',\n",
       " 'except',\n",
       " 'few',\n",
       " 'fifteen',\n",
       " 'fifty',\n",
       " 'first',\n",
       " 'five',\n",
       " 'for',\n",
       " 'former',\n",
       " 'formerly',\n",
       " 'forty',\n",
       " 'four',\n",
       " 'from',\n",
       " 'front',\n",
       " 'full',\n",
       " 'further',\n",
       " 'get',\n",
       " 'give',\n",
       " 'go',\n",
       " 'had',\n",
       " 'has',\n",
       " 'have',\n",
       " 'he',\n",
       " 'hence',\n",
       " 'her',\n",
       " 'here',\n",
       " 'hereafter',\n",
       " 'hereby',\n",
       " 'herein',\n",
       " 'hereupon',\n",
       " 'hers',\n",
       " 'herself',\n",
       " 'him',\n",
       " 'himself',\n",
       " 'his',\n",
       " 'how',\n",
       " 'however',\n",
       " 'hundred',\n",
       " 'i',\n",
       " 'if',\n",
       " 'in',\n",
       " 'indeed',\n",
       " 'into',\n",
       " 'is',\n",
       " 'it',\n",
       " 'its',\n",
       " 'itself',\n",
       " 'just',\n",
       " 'keep',\n",
       " 'last',\n",
       " 'latter',\n",
       " 'latterly',\n",
       " 'least',\n",
       " 'less',\n",
       " 'made',\n",
       " 'make',\n",
       " 'many',\n",
       " 'may',\n",
       " 'me',\n",
       " 'meanwhile',\n",
       " 'might',\n",
       " 'mine',\n",
       " 'more',\n",
       " 'moreover',\n",
       " 'most',\n",
       " 'mostly',\n",
       " 'move',\n",
       " 'much',\n",
       " 'must',\n",
       " 'my',\n",
       " 'myself',\n",
       " \"n't\",\n",
       " 'name',\n",
       " 'namely',\n",
       " 'neither',\n",
       " 'never',\n",
       " 'nevertheless',\n",
       " 'next',\n",
       " 'nine',\n",
       " 'no',\n",
       " 'nobody',\n",
       " 'none',\n",
       " 'noone',\n",
       " 'nor',\n",
       " 'not',\n",
       " 'nothing',\n",
       " 'now',\n",
       " 'nowhere',\n",
       " 'n‘t',\n",
       " 'n’t',\n",
       " 'of',\n",
       " 'off',\n",
       " 'often',\n",
       " 'on',\n",
       " 'once',\n",
       " 'one',\n",
       " 'only',\n",
       " 'onto',\n",
       " 'or',\n",
       " 'other',\n",
       " 'others',\n",
       " 'otherwise',\n",
       " 'our',\n",
       " 'ours',\n",
       " 'ourselves',\n",
       " 'out',\n",
       " 'over',\n",
       " 'own',\n",
       " 'part',\n",
       " 'per',\n",
       " 'perhaps',\n",
       " 'please',\n",
       " 'put',\n",
       " 'quite',\n",
       " 'rather',\n",
       " 're',\n",
       " 'really',\n",
       " 'regarding',\n",
       " 'same',\n",
       " 'say',\n",
       " 'see',\n",
       " 'seem',\n",
       " 'seemed',\n",
       " 'seeming',\n",
       " 'seems',\n",
       " 'serious',\n",
       " 'several',\n",
       " 'she',\n",
       " 'should',\n",
       " 'show',\n",
       " 'side',\n",
       " 'since',\n",
       " 'six',\n",
       " 'sixty',\n",
       " 'so',\n",
       " 'some',\n",
       " 'somehow',\n",
       " 'someone',\n",
       " 'something',\n",
       " 'sometime',\n",
       " 'sometimes',\n",
       " 'somewhere',\n",
       " 'still',\n",
       " 'such',\n",
       " 'take',\n",
       " 'ten',\n",
       " 'than',\n",
       " 'that',\n",
       " 'the',\n",
       " 'their',\n",
       " 'them',\n",
       " 'themselves',\n",
       " 'then',\n",
       " 'thence',\n",
       " 'there',\n",
       " 'thereafter',\n",
       " 'thereby',\n",
       " 'therefore',\n",
       " 'therein',\n",
       " 'thereupon',\n",
       " 'these',\n",
       " 'they',\n",
       " 'third',\n",
       " 'this',\n",
       " 'those',\n",
       " 'though',\n",
       " 'three',\n",
       " 'through',\n",
       " 'throughout',\n",
       " 'thru',\n",
       " 'thus',\n",
       " 'to',\n",
       " 'together',\n",
       " 'too',\n",
       " 'top',\n",
       " 'toward',\n",
       " 'towards',\n",
       " 'twelve',\n",
       " 'twenty',\n",
       " 'two',\n",
       " 'under',\n",
       " 'unless',\n",
       " 'until',\n",
       " 'up',\n",
       " 'upon',\n",
       " 'us',\n",
       " 'used',\n",
       " 'using',\n",
       " 'various',\n",
       " 'very',\n",
       " 'via',\n",
       " 'was',\n",
       " 'we',\n",
       " 'well',\n",
       " 'were',\n",
       " 'what',\n",
       " 'whatever',\n",
       " 'when',\n",
       " 'whence',\n",
       " 'whenever',\n",
       " 'where',\n",
       " 'whereafter',\n",
       " 'whereas',\n",
       " 'whereby',\n",
       " 'wherein',\n",
       " 'whereupon',\n",
       " 'wherever',\n",
       " 'whether',\n",
       " 'which',\n",
       " 'while',\n",
       " 'whither',\n",
       " 'who',\n",
       " 'whoever',\n",
       " 'whole',\n",
       " 'whom',\n",
       " 'whose',\n",
       " 'why',\n",
       " 'will',\n",
       " 'with',\n",
       " 'within',\n",
       " 'without',\n",
       " 'would',\n",
       " 'yet',\n",
       " 'you',\n",
       " 'your',\n",
       " 'yours',\n",
       " 'yourself',\n",
       " 'yourselves',\n",
       " '‘d',\n",
       " '‘ll',\n",
       " '‘m',\n",
       " '‘re',\n",
       " '‘s',\n",
       " '‘ve',\n",
       " '’d',\n",
       " '’ll',\n",
       " '’m',\n",
       " '’re',\n",
       " '’s',\n",
       " '’ve'}"
      ]
     },
     "execution_count": 39,
     "metadata": {},
     "output_type": "execute_result"
    }
   ],
   "source": [
    "english.Defaults.stop_words"
   ]
  },
  {
   "cell_type": "code",
   "execution_count": 40,
   "id": "a94da47d",
   "metadata": {},
   "outputs": [
    {
     "data": {
      "text/plain": [
       "326"
      ]
     },
     "execution_count": 40,
     "metadata": {},
     "output_type": "execute_result"
    }
   ],
   "source": [
    "len(english.Defaults.stop_words)"
   ]
  },
  {
   "cell_type": "code",
   "execution_count": 41,
   "id": "7b3665df",
   "metadata": {},
   "outputs": [],
   "source": [
    "english.Defaults.stop_words.add('lol')"
   ]
  },
  {
   "cell_type": "code",
   "execution_count": 42,
   "id": "cd2b0d23",
   "metadata": {},
   "outputs": [
    {
     "data": {
      "text/plain": [
       "True"
      ]
     },
     "execution_count": 42,
     "metadata": {},
     "output_type": "execute_result"
    }
   ],
   "source": [
    "english.vocab['has'].is_stop"
   ]
  },
  {
   "cell_type": "code",
   "execution_count": 43,
   "id": "164044e9",
   "metadata": {},
   "outputs": [
    {
     "data": {
      "text/plain": [
       "True"
      ]
     },
     "execution_count": 43,
     "metadata": {},
     "output_type": "execute_result"
    }
   ],
   "source": [
    "english.vocab['lol'].is_stop"
   ]
  },
  {
   "cell_type": "code",
   "execution_count": 44,
   "id": "684e5515",
   "metadata": {},
   "outputs": [
    {
     "data": {
      "text/plain": [
       "327"
      ]
     },
     "execution_count": 44,
     "metadata": {},
     "output_type": "execute_result"
    }
   ],
   "source": [
    "len(english.Defaults.stop_words)"
   ]
  },
  {
   "cell_type": "code",
   "execution_count": null,
   "id": "31cf935e",
   "metadata": {},
   "outputs": [],
   "source": []
  },
  {
   "cell_type": "code",
   "execution_count": null,
   "id": "91e32437",
   "metadata": {},
   "outputs": [],
   "source": []
  },
  {
   "cell_type": "code",
   "execution_count": null,
   "id": "9fbacc07",
   "metadata": {},
   "outputs": [],
   "source": []
  },
  {
   "cell_type": "code",
   "execution_count": null,
   "id": "6671e18e",
   "metadata": {},
   "outputs": [],
   "source": []
  },
  {
   "cell_type": "code",
   "execution_count": 45,
   "id": "2ae99145",
   "metadata": {},
   "outputs": [
    {
     "name": "stdout",
     "output_type": "stream",
     "text": [
      "enter ur choice :running date\n"
     ]
    }
   ],
   "source": [
    "ch = input (\"enter ur choice :\")"
   ]
  },
  {
   "cell_type": "code",
   "execution_count": 46,
   "id": "16f87d95",
   "metadata": {},
   "outputs": [],
   "source": [
    "import subprocess"
   ]
  },
  {
   "cell_type": "code",
   "execution_count": 47,
   "id": "2b36f5f8",
   "metadata": {},
   "outputs": [
    {
     "name": "stdout",
     "output_type": "stream",
     "text": [
      "24-06-2022 \n"
     ]
    }
   ],
   "source": [
    "if \"run\" in ch and \"date\" in ch :\n",
    "    print(subprocess.getoutput(\"date /t\"))\n",
    "elif \"player\" in ch and \"run\" in ch:\n",
    "    subprocess.getoutput(\"Wmplayer\")\n",
    "else :\n",
    "    print(\"undefined\")"
   ]
  },
  {
   "cell_type": "code",
   "execution_count": 48,
   "id": "e42837eb",
   "metadata": {},
   "outputs": [],
   "source": [
    "data = english(ch)"
   ]
  },
  {
   "cell_type": "code",
   "execution_count": 49,
   "id": "b58027e7",
   "metadata": {},
   "outputs": [
    {
     "name": "stdout",
     "output_type": "stream",
     "text": [
      "running run\n",
      "date date\n"
     ]
    }
   ],
   "source": [
    "for i in data :\n",
    "    print(i.text , i.lemma_)"
   ]
  },
  {
   "cell_type": "code",
   "execution_count": 50,
   "id": "cbf5a950",
   "metadata": {},
   "outputs": [
    {
     "name": "stdout",
     "output_type": "stream",
     "text": [
      "enter ur choice :running date\n"
     ]
    }
   ],
   "source": [
    "ch = input (\"enter ur choice :\")"
   ]
  },
  {
   "cell_type": "code",
   "execution_count": 51,
   "id": "9395b96e",
   "metadata": {},
   "outputs": [],
   "source": [
    "import subprocess\n",
    "data = english(ch)"
   ]
  },
  {
   "cell_type": "code",
   "execution_count": 52,
   "id": "6bf87bfc",
   "metadata": {},
   "outputs": [
    {
     "name": "stdout",
     "output_type": "stream",
     "text": [
      "running run\n"
     ]
    }
   ],
   "source": [
    "for i in data :\n",
    "    if i.pos_ == 'VERB':\n",
    "        print(i.text , i.lemma_)\n",
    "        myaction = i.lemma_"
   ]
  },
  {
   "cell_type": "code",
   "execution_count": 53,
   "id": "ff169ebb",
   "metadata": {},
   "outputs": [
    {
     "data": {
      "text/plain": [
       "'run'"
      ]
     },
     "execution_count": 53,
     "metadata": {},
     "output_type": "execute_result"
    }
   ],
   "source": [
    "myaction"
   ]
  },
  {
   "cell_type": "code",
   "execution_count": 54,
   "id": "07c6d478",
   "metadata": {},
   "outputs": [
    {
     "name": "stdout",
     "output_type": "stream",
     "text": [
      "24-06-2022 \n"
     ]
    }
   ],
   "source": [
    "if \"run\" in myaction and \"date\" in ch :\n",
    "    print(subprocess.getoutput(\"date /t\"))\n",
    "elif \"player\" in ch and \"run\" in myaction:\n",
    "    subprocess.getoutput(\"Wmplayer\")\n",
    "else :\n",
    "    print(\"undefined\")"
   ]
  },
  {
   "cell_type": "code",
   "execution_count": 55,
   "id": "9c353697",
   "metadata": {},
   "outputs": [
    {
     "name": "stdout",
     "output_type": "stream",
     "text": [
      "enter ur choice :dont run date\n"
     ]
    }
   ],
   "source": [
    "ch = input(\"enter ur choice :\")"
   ]
  },
  {
   "cell_type": "code",
   "execution_count": 56,
   "id": "fb5af58d",
   "metadata": {},
   "outputs": [
    {
     "name": "stdout",
     "output_type": "stream",
     "text": [
      "run run\n",
      "24-06-2022 \n"
     ]
    }
   ],
   "source": [
    "import subprocess\n",
    "data = english(ch)\n",
    "for i in data :\n",
    "    if i.pos_ == 'VERB':\n",
    "        print(i.text , i.lemma_)\n",
    "        myaction = i.lemma_\n",
    "        \n",
    "if \"run\" in myaction and \"date\" in ch :\n",
    "    print(subprocess.getoutput(\"date /t\"))\n",
    "elif \"player\" in ch and \"run\" in myaction:\n",
    "    subprocess.getoutput(\"Wmplayer\")\n",
    "else :\n",
    "    print(\"undefined\")"
   ]
  },
  {
   "cell_type": "code",
   "execution_count": null,
   "id": "11cf0fc4",
   "metadata": {},
   "outputs": [],
   "source": []
  },
  {
   "cell_type": "code",
   "execution_count": 61,
   "id": "60906b4a",
   "metadata": {},
   "outputs": [],
   "source": [
    "b = english(ch)"
   ]
  },
  {
   "cell_type": "code",
   "execution_count": 65,
   "id": "18f6d108",
   "metadata": {},
   "outputs": [
    {
     "name": "stdout",
     "output_type": "stream",
     "text": [
      "aux\n",
      "neg\n",
      "ROOT\n",
      "dobj\n"
     ]
    }
   ],
   "source": [
    "for i in b :\n",
    "    print(i.dep_)"
   ]
  },
  {
   "cell_type": "code",
   "execution_count": 72,
   "id": "95111bb2",
   "metadata": {},
   "outputs": [
    {
     "name": "stdout",
     "output_type": "stream",
     "text": [
      "run run\n",
      "undefined\n"
     ]
    }
   ],
   "source": [
    "import subprocess\n",
    "data = english(ch)\n",
    "\n",
    "y = True\n",
    "\n",
    "for j in data :\n",
    "    if j.dep_ == \"neg\":\n",
    "        y = False\n",
    "        \n",
    "for i in data :\n",
    "    if i.pos_ == 'VERB':\n",
    "        print(i.text , i.lemma_ , )\n",
    "        myaction = i.lemma_\n",
    "\n",
    "        \n",
    "if \"run\" in myaction and \"date\" in ch and y :\n",
    "    print(subprocess.getoutput(\"date /t\"))\n",
    "elif \"player\" in ch and \"run\" in myaction and y:\n",
    "    subprocess.getoutput(\"Wmplayer\")\n",
    "else :\n",
    "    print(\"undefined\")"
   ]
  },
  {
   "cell_type": "code",
   "execution_count": null,
   "id": "c43c2693",
   "metadata": {},
   "outputs": [],
   "source": []
  },
  {
   "cell_type": "code",
   "execution_count": null,
   "id": "545a1631",
   "metadata": {},
   "outputs": [],
   "source": []
  },
  {
   "cell_type": "code",
   "execution_count": 86,
   "id": "f5e65e8f",
   "metadata": {},
   "outputs": [
    {
     "name": "stdout",
     "output_type": "stream",
     "text": [
      "enter ur choice :hey kanna run date\n"
     ]
    }
   ],
   "source": [
    "ch = input(\"enter ur choice :\")"
   ]
  },
  {
   "cell_type": "code",
   "execution_count": 87,
   "id": "1053f19d",
   "metadata": {},
   "outputs": [],
   "source": [
    "wakeup = str(english(ch))"
   ]
  },
  {
   "cell_type": "code",
   "execution_count": 91,
   "id": "4034dd5c",
   "metadata": {},
   "outputs": [
    {
     "data": {
      "text/plain": [
       "'hey kanna run date'"
      ]
     },
     "execution_count": 91,
     "metadata": {},
     "output_type": "execute_result"
    }
   ],
   "source": [
    "wakeup"
   ]
  },
  {
   "cell_type": "code",
   "execution_count": 90,
   "id": "c655a031",
   "metadata": {},
   "outputs": [
    {
     "name": "stdout",
     "output_type": "stream",
     "text": [
      "run run\n",
      "access denied\n"
     ]
    }
   ],
   "source": [
    "import subprocess\n",
    "data = english(ch)\n",
    "y = True\n",
    "\n",
    "for j in data :\n",
    "    if j.dep_ == \"neg\":\n",
    "        y = False\n",
    "        \n",
    "for i in data :\n",
    "    if i.pos_ == 'VERB':\n",
    "        print(i.text , i.lemma_ , )\n",
    "        myaction = i.lemma_\n",
    "\n",
    "if wakeup[0] == \"hey\" and wakeup[1] == \"kanna\" :        \n",
    "    if \"run\" in myaction and \"date\" in wakeup and y :\n",
    "        print(subprocess.getoutput(\"date /t\"))\n",
    "    elif \"player\" in ch and \"run\" in myaction and y:\n",
    "        subprocess.getoutput(\"Wmplayer\")\n",
    "    else :\n",
    "        print(\"undefined\")\n",
    "        \n",
    "else :\n",
    "    print(\"access denied\")"
   ]
  },
  {
   "cell_type": "code",
   "execution_count": null,
   "id": "cea431db",
   "metadata": {},
   "outputs": [],
   "source": []
  }
 ],
 "metadata": {
  "kernelspec": {
   "display_name": "Python 3",
   "language": "python",
   "name": "python3"
  },
  "language_info": {
   "codemirror_mode": {
    "name": "ipython",
    "version": 3
   },
   "file_extension": ".py",
   "mimetype": "text/x-python",
   "name": "python",
   "nbconvert_exporter": "python",
   "pygments_lexer": "ipython3",
   "version": "3.8.8"
  }
 },
 "nbformat": 4,
 "nbformat_minor": 5
}
