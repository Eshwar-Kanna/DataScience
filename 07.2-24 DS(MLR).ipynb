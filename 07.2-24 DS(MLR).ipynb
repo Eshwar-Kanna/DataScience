{
 "cells": [
  {
   "cell_type": "code",
   "execution_count": 1,
   "id": "7933ce03",
   "metadata": {},
   "outputs": [],
   "source": [
    "db = [\"arun\" , \"bob\" , \"clarie\" , \"doll\" , \"eric\"]"
   ]
  },
  {
   "cell_type": "code",
   "execution_count": 2,
   "id": "ff328faa",
   "metadata": {},
   "outputs": [
    {
     "data": {
      "text/plain": [
       "list"
      ]
     },
     "execution_count": 2,
     "metadata": {},
     "output_type": "execute_result"
    }
   ],
   "source": [
    "type(db)"
   ]
  },
  {
   "cell_type": "code",
   "execution_count": 3,
   "id": "f5e6e5c4",
   "metadata": {},
   "outputs": [
    {
     "data": {
      "text/plain": [
       "['bob', 'clarie']"
      ]
     },
     "execution_count": 3,
     "metadata": {},
     "output_type": "execute_result"
    }
   ],
   "source": [
    "db[1:3]"
   ]
  },
  {
   "cell_type": "code",
   "execution_count": 4,
   "id": "8197d7a4",
   "metadata": {},
   "outputs": [
    {
     "data": {
      "text/plain": [
       "['bob', 'clarie', 'doll', 'eric']"
      ]
     },
     "execution_count": 4,
     "metadata": {},
     "output_type": "execute_result"
    }
   ],
   "source": [
    "db[1:]"
   ]
  },
  {
   "cell_type": "code",
   "execution_count": 5,
   "id": "6b05b4e0",
   "metadata": {},
   "outputs": [],
   "source": [
    "import cv2"
   ]
  },
  {
   "cell_type": "code",
   "execution_count": 13,
   "id": "0811e718",
   "metadata": {},
   "outputs": [],
   "source": [
    "photo = cv2.imread ('pic1.jpg')"
   ]
  },
  {
   "cell_type": "code",
   "execution_count": 14,
   "id": "5003d08f",
   "metadata": {},
   "outputs": [
    {
     "data": {
      "text/plain": [
       "numpy.ndarray"
      ]
     },
     "execution_count": 14,
     "metadata": {},
     "output_type": "execute_result"
    }
   ],
   "source": [
    "type(photo)"
   ]
  },
  {
   "cell_type": "code",
   "execution_count": 15,
   "id": "c490d602",
   "metadata": {},
   "outputs": [
    {
     "data": {
      "text/plain": [
       "array([[[157, 173, 150],\n",
       "        [158, 174, 151],\n",
       "        [159, 175, 152],\n",
       "        ...,\n",
       "        [251, 251, 251],\n",
       "        [251, 251, 251],\n",
       "        [251, 251, 251]],\n",
       "\n",
       "       [[158, 174, 151],\n",
       "        [159, 175, 152],\n",
       "        [161, 177, 154],\n",
       "        ...,\n",
       "        [251, 251, 251],\n",
       "        [251, 251, 251],\n",
       "        [251, 251, 251]],\n",
       "\n",
       "       [[158, 175, 154],\n",
       "        [159, 176, 155],\n",
       "        [161, 178, 157],\n",
       "        ...,\n",
       "        [251, 251, 251],\n",
       "        [251, 251, 251],\n",
       "        [251, 251, 251]],\n",
       "\n",
       "       ...,\n",
       "\n",
       "       [[241, 248, 243],\n",
       "        [241, 248, 243],\n",
       "        [241, 248, 245],\n",
       "        ...,\n",
       "        [255, 255, 255],\n",
       "        [255, 255, 255],\n",
       "        [255, 255, 255]],\n",
       "\n",
       "       [[241, 248, 243],\n",
       "        [241, 248, 243],\n",
       "        [241, 248, 243],\n",
       "        ...,\n",
       "        [255, 255, 255],\n",
       "        [255, 255, 255],\n",
       "        [255, 255, 255]],\n",
       "\n",
       "       [[241, 248, 243],\n",
       "        [241, 248, 243],\n",
       "        [241, 248, 243],\n",
       "        ...,\n",
       "        [255, 255, 255],\n",
       "        [255, 255, 255],\n",
       "        [255, 255, 255]]], dtype=uint8)"
      ]
     },
     "execution_count": 15,
     "metadata": {},
     "output_type": "execute_result"
    }
   ],
   "source": [
    "photo"
   ]
  },
  {
   "cell_type": "code",
   "execution_count": null,
   "id": "8e9cf9cc",
   "metadata": {},
   "outputs": [],
   "source": []
  },
  {
   "cell_type": "code",
   "execution_count": 45,
   "id": "e5fe339f",
   "metadata": {},
   "outputs": [],
   "source": [
    "a = photo[100:900]"
   ]
  },
  {
   "cell_type": "code",
   "execution_count": null,
   "id": "d08c3b9a",
   "metadata": {},
   "outputs": [],
   "source": [
    "cv2.imwrite(\"pic1.jpg\" , a)"
   ]
  },
  {
   "cell_type": "code",
   "execution_count": 38,
   "id": "986e4f43",
   "metadata": {},
   "outputs": [],
   "source": [
    "cap = cv2.VideoCapture(0)"
   ]
  },
  {
   "cell_type": "code",
   "execution_count": 39,
   "id": "04ea55e6",
   "metadata": {},
   "outputs": [],
   "source": [
    "myphoto = cap.read()"
   ]
  },
  {
   "cell_type": "code",
   "execution_count": null,
   "id": "493b02c0",
   "metadata": {},
   "outputs": [],
   "source": [
    "len(myphoto)"
   ]
  },
  {
   "cell_type": "code",
   "execution_count": 40,
   "id": "d5c74ad8",
   "metadata": {},
   "outputs": [
    {
     "data": {
      "text/plain": [
       "True"
      ]
     },
     "execution_count": 40,
     "metadata": {},
     "output_type": "execute_result"
    }
   ],
   "source": [
    "myphoto[0]"
   ]
  },
  {
   "cell_type": "code",
   "execution_count": 41,
   "id": "435cd670",
   "metadata": {},
   "outputs": [],
   "source": [
    "aphoto = myphoto[1]"
   ]
  },
  {
   "cell_type": "code",
   "execution_count": 42,
   "id": "116fe48a",
   "metadata": {},
   "outputs": [
    {
     "data": {
      "text/plain": [
       "(480, 640, 3)"
      ]
     },
     "execution_count": 42,
     "metadata": {},
     "output_type": "execute_result"
    }
   ],
   "source": [
    "aphoto.shape"
   ]
  },
  {
   "cell_type": "code",
   "execution_count": 43,
   "id": "d1476ac3",
   "metadata": {},
   "outputs": [
    {
     "data": {
      "text/plain": [
       "True"
      ]
     },
     "execution_count": 43,
     "metadata": {},
     "output_type": "execute_result"
    }
   ],
   "source": [
    "cv2.imwrite(\"pic3.jpg\" ,aphoto)"
   ]
  },
  {
   "cell_type": "code",
   "execution_count": null,
   "id": "4b601ccb",
   "metadata": {},
   "outputs": [],
   "source": [
    "import numpy"
   ]
  },
  {
   "cell_type": "code",
   "execution_count": null,
   "id": "ef36cd34",
   "metadata": {},
   "outputs": [],
   "source": [
    "a1 = numpy.array([[1,2],[3,4],[5,6]])"
   ]
  },
  {
   "cell_type": "code",
   "execution_count": null,
   "id": "d0bf31be",
   "metadata": {},
   "outputs": [],
   "source": [
    "a1"
   ]
  },
  {
   "cell_type": "code",
   "execution_count": null,
   "id": "92328ca7",
   "metadata": {},
   "outputs": [],
   "source": [
    "b1 = numpy.array([[2,2],[3,3],[5,5]])"
   ]
  },
  {
   "cell_type": "code",
   "execution_count": null,
   "id": "c0f0e570",
   "metadata": {},
   "outputs": [],
   "source": [
    "c1 = numpy.vstack((a1,b1))"
   ]
  },
  {
   "cell_type": "code",
   "execution_count": null,
   "id": "b0a75cbb",
   "metadata": {},
   "outputs": [],
   "source": [
    "d1 = numpy.hstack((a1,b1))"
   ]
  },
  {
   "cell_type": "code",
   "execution_count": null,
   "id": "e9da593f",
   "metadata": {},
   "outputs": [],
   "source": [
    "c1.shape"
   ]
  },
  {
   "cell_type": "code",
   "execution_count": null,
   "id": "6271ed8e",
   "metadata": {},
   "outputs": [],
   "source": [
    "d1.shape"
   ]
  },
  {
   "cell_type": "code",
   "execution_count": null,
   "id": "d38c92b9",
   "metadata": {},
   "outputs": [],
   "source": [
    "a1.reshape(6,1)"
   ]
  },
  {
   "cell_type": "code",
   "execution_count": null,
   "id": "0ba7eed3",
   "metadata": {},
   "outputs": [],
   "source": [
    "a1.reshape(1,6)"
   ]
  },
  {
   "cell_type": "code",
   "execution_count": null,
   "id": "34351fb9",
   "metadata": {},
   "outputs": [],
   "source": [
    "import pandas"
   ]
  },
  {
   "cell_type": "code",
   "execution_count": null,
   "id": "0c8f29df",
   "metadata": {},
   "outputs": [],
   "source": [
    "dataset = pandas.read_csv('50_Startups.csv')"
   ]
  },
  {
   "cell_type": "code",
   "execution_count": null,
   "id": "4594460d",
   "metadata": {},
   "outputs": [],
   "source": [
    "dataset"
   ]
  },
  {
   "cell_type": "code",
   "execution_count": null,
   "id": "f4f00ef6",
   "metadata": {},
   "outputs": [],
   "source": [
    "y = dataset['Profit']"
   ]
  },
  {
   "cell_type": "code",
   "execution_count": null,
   "id": "623e1ce2",
   "metadata": {},
   "outputs": [],
   "source": [
    "x = dataset[[\"R&D Spend\",\"Administration\",\"Marketing Spend\",\"State\"]]"
   ]
  },
  {
   "cell_type": "code",
   "execution_count": null,
   "id": "1730ccb9",
   "metadata": {},
   "outputs": [],
   "source": [
    "x = x.values.reshape(-1,1)"
   ]
  },
  {
   "cell_type": "code",
   "execution_count": null,
   "id": "dd569c7c",
   "metadata": {},
   "outputs": [],
   "source": [
    "from sklearn.linear_model import LinearRegression"
   ]
  },
  {
   "cell_type": "code",
   "execution_count": null,
   "id": "3cbb6760",
   "metadata": {},
   "outputs": [],
   "source": [
    "model = LinearRegression()"
   ]
  },
  {
   "cell_type": "code",
   "execution_count": null,
   "id": "a1beda7e",
   "metadata": {},
   "outputs": [],
   "source": [
    "model.fit(x,y)"
   ]
  },
  {
   "cell_type": "code",
   "execution_count": null,
   "id": "e0ed1fdb",
   "metadata": {},
   "outputs": [],
   "source": [
    "from sklearn.preprocessing  import LabelEncoder"
   ]
  },
  {
   "cell_type": "code",
   "execution_count": null,
   "id": "7907ce24",
   "metadata": {},
   "outputs": [],
   "source": [
    "label  = LabelEncoder() "
   ]
  },
  {
   "cell_type": "code",
   "execution_count": null,
   "id": "ae1e329d",
   "metadata": {},
   "outputs": [],
   "source": [
    "Lstate = label.fit_transform(dataset.State)"
   ]
  },
  {
   "cell_type": "code",
   "execution_count": null,
   "id": "82822e3a",
   "metadata": {
    "scrolled": true
   },
   "outputs": [],
   "source": [
    "Lstate"
   ]
  },
  {
   "cell_type": "code",
   "execution_count": null,
   "id": "8566a6d7",
   "metadata": {},
   "outputs": [],
   "source": [
    "from sklearn.preprocessing import OneHotEncoder"
   ]
  },
  {
   "cell_type": "code",
   "execution_count": null,
   "id": "c9aa0a42",
   "metadata": {},
   "outputs": [],
   "source": [
    "Ostate = OneHotEncoder(Lstate)"
   ]
  },
  {
   "cell_type": "code",
   "execution_count": null,
   "id": "e5695408",
   "metadata": {},
   "outputs": [],
   "source": [
    "Ostate"
   ]
  },
  {
   "cell_type": "code",
   "execution_count": null,
   "id": "ce95d95a",
   "metadata": {},
   "outputs": [],
   "source": [
    "Lstate.shape"
   ]
  },
  {
   "cell_type": "code",
   "execution_count": null,
   "id": "a22f8b9d",
   "metadata": {},
   "outputs": [],
   "source": [
    "Lstate2d = Lstate.reshape(-1,1)"
   ]
  },
  {
   "cell_type": "code",
   "execution_count": null,
   "id": "6d0f8f0d",
   "metadata": {},
   "outputs": [],
   "source": [
    "encoder = OneHotEncoder()"
   ]
  },
  {
   "cell_type": "code",
   "execution_count": null,
   "id": "0c3123a5",
   "metadata": {},
   "outputs": [],
   "source": [
    "state_dump  = encoder.fit_transform(Lstate2d)"
   ]
  },
  {
   "cell_type": "code",
   "execution_count": null,
   "id": "4ce2c77c",
   "metadata": {},
   "outputs": [],
   "source": [
    "Astate = state_dump.toarray()"
   ]
  },
  {
   "cell_type": "code",
   "execution_count": null,
   "id": "b2b1c3a5",
   "metadata": {},
   "outputs": [],
   "source": [
    "Astate"
   ]
  },
  {
   "cell_type": "code",
   "execution_count": null,
   "id": "13746640",
   "metadata": {},
   "outputs": [],
   "source": [
    "Tstate = Astate[:,0:2]"
   ]
  },
  {
   "cell_type": "code",
   "execution_count": null,
   "id": "d3f1722b",
   "metadata": {},
   "outputs": [],
   "source": [
    "Tstate"
   ]
  },
  {
   "cell_type": "code",
   "execution_count": null,
   "id": "6e9cd1de",
   "metadata": {},
   "outputs": [],
   "source": [
    "import numpy"
   ]
  },
  {
   "cell_type": "code",
   "execution_count": null,
   "id": "f93a148a",
   "metadata": {},
   "outputs": [],
   "source": [
    "x = dataset[[\"R&D Spend\",\"Administration\",\"Marketing Spend\"]]"
   ]
  },
  {
   "cell_type": "code",
   "execution_count": null,
   "id": "73cf6c08",
   "metadata": {},
   "outputs": [],
   "source": [
    "x_final = numpy.hstack((x , Tstate))"
   ]
  },
  {
   "cell_type": "code",
   "execution_count": null,
   "id": "62459350",
   "metadata": {},
   "outputs": [],
   "source": [
    "x_final"
   ]
  },
  {
   "cell_type": "code",
   "execution_count": null,
   "id": "5823ad3c",
   "metadata": {},
   "outputs": [],
   "source": [
    "model.fit(x_final , y)"
   ]
  },
  {
   "cell_type": "code",
   "execution_count": null,
   "id": "56fe0227",
   "metadata": {},
   "outputs": [],
   "source": [
    "model.coef_"
   ]
  },
  {
   "cell_type": "code",
   "execution_count": null,
   "id": "c64b13e1",
   "metadata": {},
   "outputs": [],
   "source": [
    "model.intercept_"
   ]
  },
  {
   "cell_type": "code",
   "execution_count": null,
   "id": "456b7101",
   "metadata": {},
   "outputs": [],
   "source": [
    "model.predict([[165349,136897,471784 , (0,0)]])"
   ]
  },
  {
   "cell_type": "code",
   "execution_count": 44,
   "id": "0a3ff7ee",
   "metadata": {},
   "outputs": [],
   "source": [
    "cap.release()"
   ]
  },
  {
   "cell_type": "code",
   "execution_count": null,
   "id": "e91a9146",
   "metadata": {},
   "outputs": [],
   "source": []
  }
 ],
 "metadata": {
  "kernelspec": {
   "display_name": "Python 3",
   "language": "python",
   "name": "python3"
  },
  "language_info": {
   "codemirror_mode": {
    "name": "ipython",
    "version": 3
   },
   "file_extension": ".py",
   "mimetype": "text/x-python",
   "name": "python",
   "nbconvert_exporter": "python",
   "pygments_lexer": "ipython3",
   "version": "3.8.8"
  }
 },
 "nbformat": 4,
 "nbformat_minor": 5
}
